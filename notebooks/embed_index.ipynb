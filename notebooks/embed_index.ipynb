{
 "cells": [
  {
   "cell_type": "code",
   "execution_count": 6,
   "id": "4e1b1957",
   "metadata": {},
   "outputs": [
    {
     "name": "stderr",
     "output_type": "stream",
     "text": [
      "c:\\Users\\filimon.hailemariam\\Documents\\Week_6\\Intelligent-Complaint-Analysis\\.venv\\Lib\\site-packages\\tqdm\\auto.py:21: TqdmWarning: IProgress not found. Please update jupyter and ipywidgets. See https://ipywidgets.readthedocs.io/en/stable/user_install.html\n",
      "  from .autonotebook import tqdm as notebook_tqdm\n"
     ]
    },
    {
     "name": "stdout",
     "output_type": "stream",
     "text": [
      "✅ Loaded chunked complaints: (1381982, 3)\n"
     ]
    },
    {
     "name": "stderr",
     "output_type": "stream",
     "text": [
      "C:\\Users\\filimon.hailemariam\\AppData\\Local\\Temp\\ipykernel_28616\\3544350975.py:14: LangChainDeprecationWarning: The class `HuggingFaceEmbeddings` was deprecated in LangChain 0.2.2 and will be removed in 1.0. An updated version of the class exists in the :class:`~langchain-huggingface package and should be used instead. To use it run `pip install -U :class:`~langchain-huggingface` and import as `from :class:`~langchain_huggingface import HuggingFaceEmbeddings``.\n",
      "  embedding_model = HuggingFaceEmbeddings(\n"
     ]
    },
    {
     "name": "stdout",
     "output_type": "stream",
     "text": [
      "📦 Preparing documents with metadata...\n"
     ]
    },
    {
     "name": "stderr",
     "output_type": "stream",
     "text": [
      "Creating documents: 100%|██████████| 1381982/1381982 [00:35<00:00, 38970.76it/s]\n"
     ]
    },
    {
     "name": "stdout",
     "output_type": "stream",
     "text": [
      "✅ Prepared 1381982 documents.\n",
      "⚙️ Embedding and indexing...\n",
      "✅ FAISS vector store saved to: ../vector_store/\n"
     ]
    }
   ],
   "source": [
    "import pandas as pd\n",
    "from sentence_transformers import SentenceTransformer\n",
    "from langchain.vectorstores import FAISS\n",
    "from langchain.embeddings import HuggingFaceEmbeddings\n",
    "from langchain.schema import Document\n",
    "from tqdm import tqdm  # 👈 progress bar\n",
    "import os\n",
    "\n",
    "# 1. Load your chunked data\n",
    "chunk_df = pd.read_csv(\"../data/chunked_complaints_500_100.csv\")\n",
    "print(\"✅ Loaded chunked complaints:\", chunk_df.shape)\n",
    "\n",
    "# 2. Prepare the embedding model\n",
    "embedding_model = HuggingFaceEmbeddings(\n",
    "    model_name=\"sentence-transformers/all-MiniLM-L6-v2\"\n",
    ")\n",
    "\n",
    "# 3. Convert to LangChain Documents with progress tracking\n",
    "documents = []\n",
    "\n",
    "print(\"📦 Preparing documents with metadata...\")\n",
    "for _, row in tqdm(chunk_df.iterrows(), total=len(chunk_df), desc=\"Creating documents\"):\n",
    "    documents.append(\n",
    "        Document(\n",
    "            page_content=row[\"text_chunk\"],\n",
    "            metadata={\n",
    "                \"complaint_id\": row[\"complaint_id\"],\n",
    "                \"product\": row[\"product\"]\n",
    "            }\n",
    "        )\n",
    "    )\n",
    "\n",
    "print(f\"✅ Prepared {len(documents)} documents.\")\n",
    "\n",
    "# 4. Create FAISS index from documents (progress shown by FAISS internally)\n",
    "print(\"⚙️ Embedding and indexing...\")\n",
    "vector_store = FAISS.from_documents(documents, embedding_model)\n",
    "\n",
    "# 5. Save to disk\n",
    "os.makedirs(\"../vector_store\", exist_ok=True)\n",
    "vector_store.save_local(\"../vector_store\")\n",
    "\n",
    "print(\"✅ FAISS vector store saved to: ../vector_store/\")\n"
   ]
  }
 ],
 "metadata": {
  "kernelspec": {
   "display_name": ".venv",
   "language": "python",
   "name": "python3"
  },
  "language_info": {
   "codemirror_mode": {
    "name": "ipython",
    "version": 3
   },
   "file_extension": ".py",
   "mimetype": "text/x-python",
   "name": "python",
   "nbconvert_exporter": "python",
   "pygments_lexer": "ipython3",
   "version": "3.13.1"
  }
 },
 "nbformat": 4,
 "nbformat_minor": 5
}
