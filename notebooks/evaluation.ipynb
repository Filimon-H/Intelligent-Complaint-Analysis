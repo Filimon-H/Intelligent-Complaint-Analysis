{
 "cells": [
  {
   "cell_type": "code",
   "execution_count": 1,
   "id": "23ce4eef",
   "metadata": {},
   "outputs": [
    {
     "name": "stderr",
     "output_type": "stream",
     "text": [
      "c:\\Users\\filimon.hailemariam\\Documents\\Week_6\\Intelligent-Complaint-Analysis\\.venv\\Lib\\site-packages\\tqdm\\auto.py:21: TqdmWarning: IProgress not found. Please update jupyter and ipywidgets. See https://ipywidgets.readthedocs.io/en/stable/user_install.html\n",
      "  from .autonotebook import tqdm as notebook_tqdm\n"
     ]
    }
   ],
   "source": [
    "import sys\n",
    "sys.path.append(\"../src\")\n",
    "\n",
    "from rag_pipeline import (\n",
    "    load_vector_store,\n",
    "    load_llm,\n",
    "    retrieve_context,\n",
    "    generate_answer\n",
    ")"
   ]
  },
  {
   "cell_type": "code",
   "execution_count": 2,
   "id": "682c5340",
   "metadata": {},
   "outputs": [
    {
     "name": "stderr",
     "output_type": "stream",
     "text": [
      "c:\\Users\\filimon.hailemariam\\Documents\\Week_6\\Intelligent-Complaint-Analysis\\notebooks\\../src\\rag_pipeline.py:16: LangChainDeprecationWarning: The class `HuggingFaceEmbeddings` was deprecated in LangChain 0.2.2 and will be removed in 1.0. An updated version of the class exists in the :class:`~langchain-huggingface package and should be used instead. To use it run `pip install -U :class:`~langchain-huggingface` and import as `from :class:`~langchain_huggingface import HuggingFaceEmbeddings``.\n",
      "  embedding_model = HuggingFaceEmbeddings(model_name=\"all-MiniLM-L6-v2\")\n",
      "Device set to use cpu\n",
      "c:\\Users\\filimon.hailemariam\\Documents\\Week_6\\Intelligent-Complaint-Analysis\\notebooks\\../src\\rag_pipeline.py:63: LangChainDeprecationWarning: The class `HuggingFacePipeline` was deprecated in LangChain 0.0.37 and will be removed in 1.0. An updated version of the class exists in the :class:`~langchain-huggingface package and should be used instead. To use it run `pip install -U :class:`~langchain-huggingface` and import as `from :class:`~langchain_huggingface import HuggingFacePipeline``.\n",
      "  return HuggingFacePipeline(pipeline=pipe)\n"
     ]
    }
   ],
   "source": [
    "MODEL_DIR = r'C:\\Users\\filimon.hailemariam\\Documents\\Week_6\\Intelligent-Complaint-Analysis\\models\\flan-t5-base'\n",
    "\n",
    "# Load vector store and LLM\n",
    "#vector_store = load_vector_store(\"../vector_store/index.pkl\")\n",
    "vector_store = load_vector_store(\"../vector_store\")\n",
    "llm = load_llm(MODEL_DIR)\n"
   ]
  },
  {
   "cell_type": "code",
   "execution_count": null,
   "id": "bbcfcdf9",
   "metadata": {},
   "outputs": [],
   "source": [
    "questions = [\n",
    "    \"What is the most common issue with credit card complaints?\",\n",
    "    \"Do customers complain about unexpected fees?\",\n",
    "    \"Are there delays in money transfers mentioned?\",\n",
    "    \"What complaints are made about prepaid cards?\",\n",
    "    \"Is there evidence of poor customer service in the narratives?\",\n",
    "    \"What issues do users face with savings accounts?\",\n",
    "    \"Are customers satisfied with the resolution process?\",\n",
    "    \"Do users report unauthorized transactions?\",\n",
    "    \"How often do customers mention fraud?\",\n",
    "    \"What are the recurring problems in Buy Now, Pay Later services?\",\n",
    "    \"Do customers find the mobile app experience frustrating?\",\n",
    "    \"Is identity theft a common complaint?\",\n",
    "    \"Do people complain about difficulties closing accounts?\",\n",
    "    \"How do customers describe interactions with customer service reps?\",\n",
    "    \"What concerns are raised about loan repayments?\",\n",
    "    \"Are there any complaints about interest rates being unclear?\",\n",
    "    \"What kind of problems are associated with overdraft fees?\",\n",
    "    \"Is poor communication a frequent theme?\",\n",
    "    \"Do customers report being misled by advertising or promotions?\",\n",
    "    \"What complaints are specific to international money transfers?\"\n",
    "]\n",
    "\n",
    "# Run the pipeline for each question\n",
    "results = []\n",
    "\n",
    "for q in questions:\n",
    "    context_chunks = retrieve_context(q, vector_store)\n",
    "    answer = generate_answer(q, context_chunks, llm)\n",
    "\n",
    "    results.append({\n",
    "        \"Question\": q,\n",
    "        \"Answer\": answer,\n",
    "        \"Context Excerpts\": context_chunks[:2]  # show top 2\n",
    "    })\n",
    "\n",
    "# Display as DataFrame\n",
    "import pandas as pd\n",
    "df_results = pd.DataFrame(results)\n",
    "df_results[\"Quality Score\"] = \"\"\n",
    "df_results[\"Comments\"] = \"\"\n",
    "\n",
    "# Preview the table\n",
    "df_results[[\"Question\", \"Answer\", \"Context Excerpts\", \"Quality Score\", \"Comments\"]]\n"
   ]
  }
 ],
 "metadata": {
  "kernelspec": {
   "display_name": ".venv",
   "language": "python",
   "name": "python3"
  },
  "language_info": {
   "codemirror_mode": {
    "name": "ipython",
    "version": 3
   },
   "file_extension": ".py",
   "mimetype": "text/x-python",
   "name": "python",
   "nbconvert_exporter": "python",
   "pygments_lexer": "ipython3",
   "version": "3.13.1"
  }
 },
 "nbformat": 4,
 "nbformat_minor": 5
}
